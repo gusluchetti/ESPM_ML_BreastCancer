{
 "cells": [
  {
   "cell_type": "code",
   "execution_count": 1,
   "metadata": {
    "scrolled": false
   },
   "outputs": [
    {
     "name": "stdout",
     "output_type": "stream",
     "text": [
      "  diagnosis  radius_mean  texture_mean  perimeter_mean  area_mean  \\\n",
      "0      good        10.26         14.71           66.20      321.6   \n",
      "1      good        12.43         17.00           78.60      477.3   \n",
      "2       bad        17.20         24.52          114.20      929.4   \n",
      "3      good        14.26         18.17           91.22      633.1   \n",
      "4      good         7.76         24.54           47.92      181.0   \n",
      "\n",
      "   smoothness_mean  compactness_mean  concavity_mean  concave points_mean  \\\n",
      "0          0.09882           0.09159         0.03581              0.02037   \n",
      "1          0.07557           0.03454         0.01342              0.01699   \n",
      "2          0.10710           0.18300         0.16920              0.07944   \n",
      "3          0.06576           0.05220         0.02475              0.01374   \n",
      "4          0.05263           0.04362         0.00000              0.00000   \n",
      "\n",
      "   symmetry_mean  ...  radius_worst  texture_worst  perimeter_worst  \\\n",
      "0         0.1633  ...        10.880          19.48            70.89   \n",
      "1         0.1472  ...        12.900          20.21            81.76   \n",
      "2         0.1927  ...        23.320          33.82           151.60   \n",
      "3         0.1635  ...        16.220          25.26           105.80   \n",
      "4         0.1587  ...         9.456          30.37            59.16   \n",
      "\n",
      "   area_worst  smoothness_worst  compactness_worst  concavity_worst  \\\n",
      "0       357.1           0.13600            0.16360          0.07162   \n",
      "1       515.9           0.08409            0.04712          0.02237   \n",
      "2      1681.0           0.15850            0.73940          0.65660   \n",
      "3       819.7           0.09445            0.21670          0.15650   \n",
      "4       268.6           0.08996            0.06444          0.00000   \n",
      "\n",
      "   concave points_worst  symmetry_worst  fractal_dimension_worst  \n",
      "0               0.04074          0.2434                  0.08488  \n",
      "1               0.02832          0.1901                  0.05932  \n",
      "2               0.18990          0.3313                  0.13390  \n",
      "3               0.07530          0.2636                  0.07676  \n",
      "4               0.00000          0.2871                  0.07039  \n",
      "\n",
      "[5 rows x 31 columns]\n",
      "(512, 30)\n",
      "(512,)\n"
     ]
    }
   ],
   "source": [
    "import pandas as pd\n",
    "# reading pre-formatted dataset\n",
    "X_train = pd.read_csv(\"../training_datasets/base_train.csv\") \n",
    "X_train = X_train.drop(columns=['Unnamed: 0'])\n",
    "\n",
    "df_diagnosis = pd.read_csv(\"../training_datasets/base_train_answer.csv\") \n",
    "df_diagnosis = df_diagnosis.drop(columns=['Unnamed: 0'])\n",
    "y_train = df_diagnosis['diagnosis'].ravel()\n",
    "\n",
    "# joining info and diagnosis into one df\n",
    "df_full = pd.concat([df_diagnosis, X_train], axis=1)\n",
    "df_full.head()\n",
    "\n",
    "print(df_full.head())\n",
    "\n",
    "print(X_train.shape)\n",
    "print(y_train.shape)"
   ]
  },
  {
   "cell_type": "code",
   "execution_count": 5,
   "metadata": {},
   "outputs": [
    {
     "name": "stdout",
     "output_type": "stream",
     "text": [
      "    estimators     score\n",
      "0        100.0  0.970558\n",
      "1        125.0  0.970558\n",
      "2        150.0  0.970558\n",
      "3        175.0  0.973758\n",
      "4        200.0  0.975285\n",
      "5        225.0  0.973758\n",
      "6        250.0  0.973758\n",
      "7        275.0  0.973758\n",
      "8        300.0  0.973758\n",
      "9        325.0  0.973758\n",
      "10       350.0  0.973758\n",
      "11       375.0  0.972160\n",
      "12       400.0  0.972160\n",
      "Best estimator: 200\n"
     ]
    },
    {
     "data": {
      "text/plain": [
       "<AxesSubplot:xlabel='estimators', ylabel='score'>"
      ]
     },
     "execution_count": 5,
     "metadata": {},
     "output_type": "execute_result"
    },
    {
     "data": {
      "image/png": "[encoded data removed]",
      "text/plain": [
       "<Figure size 432x288 with 1 Axes>"
      ]
     },
     "metadata": {},
     "output_type": "display_data"
    }
   ],
   "source": [
    "import seaborn as sns\n",
    "import numpy as np\n",
    "from sklearn.ensemble import GradientBoostingClassifier\n",
    "from sklearn.metrics import f1_score, make_scorer\n",
    "from sklearn.model_selection import cross_val_score, cross_val_predict\n",
    "\n",
    "# loop to find best number of estimators\n",
    "min_estimators = 100\n",
    "max_estimators = 400\n",
    "step = 25\n",
    "result = []\n",
    "best_score = 0\n",
    "best_estimator = 0\n",
    "\n",
    "for i in range(min_estimators, max_estimators+step, step):\n",
    "    clf = GradientBoostingClassifier(\n",
    "        n_estimators=i, \n",
    "        random_state=0)\n",
    "    \n",
    "    s = make_scorer(f1_score, pos_label='good')\n",
    "    scores = cross_val_score(clf, X_train, y_train, cv=5, scoring=s)\n",
    "    if (scores.mean() > best_score):\n",
    "        best_estimator = i\n",
    "        best_score = scores.mean()\n",
    "    result.append((i, scores.mean()))\n",
    "    \n",
    "    \n",
    "# converting result into dataframe\n",
    "estimators = np.array(result)[:,0]\n",
    "score = np.array(result)[:,1]\n",
    "d = {'estimators': estimators, 'score': score}\n",
    "df_scores = pd.DataFrame(d)\n",
    "print(f'Best estimator: {best_estimator}')\n",
    "print(df_scores)\n",
    "\n",
    "# plotting results\n",
    "sns.set_theme(style=\"dark\")\n",
    "sns.set_palette(\"colorblind\")\n",
    "sns.lineplot(\n",
    "        data=df_scores,\n",
    "        x=\"estimators\", \n",
    "        y=\"score\"\n",
    "    )\n",
    "\n",
    "# best and smallest number of estimators using above loop was 200"
   ]
  },
  {
   "cell_type": "code",
   "execution_count": 11,
   "metadata": {},
   "outputs": [
    {
     "name": "stdout",
     "output_type": "stream",
     "text": [
      "    learning_rates     score\n",
      "0         0.100000  0.975285\n",
      "1         0.169231  0.972133\n",
      "2         0.238462  0.972232\n",
      "3         0.307692  0.973758\n",
      "4         0.376923  0.975239\n",
      "5         0.446154  0.975333\n",
      "6         0.515385  0.972232\n",
      "7         0.584615  0.970536\n",
      "8         0.653846  0.973665\n",
      "9         0.723077  0.973521\n",
      "10        0.792308  0.972066\n",
      "11        0.861538  0.971822\n",
      "12        0.930769  0.968908\n",
      "13        1.000000  0.965619\n",
      "Best learning_rate: 0.4461538461538461\n"
     ]
    },
    {
     "data": {
      "text/plain": [
       "<AxesSubplot:xlabel='learning_rates', ylabel='score'>"
      ]
     },
     "execution_count": 11,
     "metadata": {},
     "output_type": "execute_result"
    },
    {
     "data": {
      "image/png": "[encoded data removed]",
      "text/plain": [
       "<Figure size 432x288 with 1 Axes>"
      ]
     },
     "metadata": {},
     "output_type": "display_data"
    }
   ],
   "source": [
    "import seaborn as sns\n",
    "import numpy as np\n",
    "from sklearn.ensemble import GradientBoostingClassifier\n",
    "from sklearn.metrics import f1_score, make_scorer\n",
    "from sklearn.model_selection import cross_val_score, cross_val_predict\n",
    "\n",
    "# loop to find best learning_rate\n",
    "result = []\n",
    "best_score = 0\n",
    "best_learning_rate = 0\n",
    "\n",
    "for i in np.linspace(0.1,1,14):\n",
    "    clf = GradientBoostingClassifier(\n",
    "        n_estimators=200,\n",
    "        learning_rate=i,\n",
    "        random_state=0)\n",
    "    \n",
    "    s = make_scorer(f1_score, pos_label='good')\n",
    "    scores = cross_val_score(clf, X_train, y_train, cv=5, scoring=s)\n",
    "    if (scores.mean() > best_score):\n",
    "        best_learning_rate = i\n",
    "        best_score = scores.mean()\n",
    "    result.append((i, scores.mean()))\n",
    "    \n",
    "    \n",
    "# converting result into dataframe\n",
    "learning_rates = np.array(result)[:,0]\n",
    "score = np.array(result)[:,1]\n",
    "d = {'learning_rates': learning_rates, 'score': score}\n",
    "df_scores = pd.DataFrame(d)\n",
    "print(df_scores)\n",
    "print(f'Best learning_rate: {best_learning_rate}')\n",
    "\n",
    "# plotting results\n",
    "sns.set_theme(style=\"dark\")\n",
    "sns.set_palette(\"colorblind\")\n",
    "sns.lineplot(\n",
    "        data=df_scores,\n",
    "        x=\"learning_rates\", \n",
    "        y=\"score\"\n",
    "    )\n",
    "\n",
    "# it isn't worth it to alter learning rate in this case"
   ]
  },
  {
   "cell_type": "code",
   "execution_count": 13,
   "metadata": {},
   "outputs": [
    {
     "name": "stdout",
     "output_type": "stream",
     "text": [
      "f1_score: 0.97528 (+/- 0.02219)\n"
     ]
    }
   ],
   "source": [
    "clf = GradientBoostingClassifier(\n",
    "        n_estimators=200,\n",
    "        learning_rate=0.1,\n",
    "        random_state=0)\n",
    "s = make_scorer(f1_score, pos_label='good')\n",
    "scores = cross_val_score(clf, X_train, y_train, cv=5, scoring=s)\n",
    "y_pred = cross_val_predict(clf, X_train, y_train, cv=5)\n",
    "print(\"f1_score: %0.5f (+/- %0.5f)\" % (scores.mean(), scores.std()))\n",
    "\n",
    "# f1_score = 0.9752\n",
    "# gradientBoost with hyper [n_estimators, learning_rate]"
   ]
  },
  {
   "cell_type": "code",
   "execution_count": 15,
   "metadata": {},
   "outputs": [
    {
     "name": "stdout",
     "output_type": "stream",
     "text": [
      "[[184  12]\n",
      " [  4 312]]\n",
      "              precision    recall  f1-score   support\n",
      "\n",
      "         bad       0.98      0.94      0.96       196\n",
      "        good       0.96      0.99      0.97       316\n",
      "\n",
      "    accuracy                           0.97       512\n",
      "   macro avg       0.97      0.96      0.97       512\n",
      "weighted avg       0.97      0.97      0.97       512\n",
      "\n"
     ]
    }
   ],
   "source": [
    "from sklearn.metrics import confusion_matrix\n",
    "from sklearn.metrics import classification_report, plot_confusion_matrix\n",
    "\n",
    "print(confusion_matrix(y_train, y_pred))\n",
    "print(classification_report(y_train, y_pred))"
   ]
  }
 ],
 "metadata": {
  "kernelspec": {
   "display_name": "Python 3",
   "language": "python",
   "name": "python3"
  },
  "language_info": {
   "codemirror_mode": {
    "name": "ipython",
    "version": 3
   },
   "file_extension": ".py",
   "mimetype": "text/x-python",
   "name": "python",
   "nbconvert_exporter": "python",
   "pygments_lexer": "ipython3",
   "version": "3.8.5"
  }
 },
 "nbformat": 4,
 "nbformat_minor": 4
}
